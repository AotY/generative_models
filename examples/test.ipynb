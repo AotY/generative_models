{
 "cells": [
  {
   "cell_type": "code",
   "execution_count": 2,
   "metadata": {},
   "outputs": [],
   "source": [
    "import torch\n",
    "import torch.nn as nn\n",
    "import torch.nn.functional as F\n",
    "\n",
    "import numpy as np\n",
    "import scipy"
   ]
  },
  {
   "cell_type": "code",
   "execution_count": 37,
   "metadata": {},
   "outputs": [],
   "source": [
    "normalization_constant = -np.log(np.sqrt(2 * np.pi))\n",
    "\n",
    "def log_gaussian(x, mean=0, logvar=0., normalize=False):\n",
    "    \"\"\"\n",
    "    :param x: (*) torch.Tensor\n",
    "    :param mean: float or torch.FloatTensor with dimensions (*)\n",
    "    :param logvar: float or torch.FloatTensor with dimensions (*)\n",
    "    :param normalize: include normalisation constant\n",
    "    :return: (*) log density\n",
    "    \"\"\"\n",
    "    if type(mean) == 'float':\n",
    "        mean = x.new(1).fill_(mean)\n",
    "    if type(logvar) == 'float':\n",
    "        logvar = x.new(1).fill_(logvar)\n",
    "    \n",
    "    p = -0.5 * ( logvar + torch.pow(x - mean, 2) / logvar.exp() )\n",
    "    \n",
    "    if normalize:\n",
    "        p = p + normalization_constant\n",
    "    \n",
    "    return p"
   ]
  },
  {
   "cell_type": "code",
   "execution_count": null,
   "metadata": {},
   "outputs": [],
   "source": []
  }
 ],
 "metadata": {
  "kernelspec": {
   "display_name": "Python 3",
   "language": "python",
   "name": "python3"
  },
  "language_info": {
   "codemirror_mode": {
    "name": "ipython",
    "version": 3
   },
   "file_extension": ".py",
   "mimetype": "text/x-python",
   "name": "python",
   "nbconvert_exporter": "python",
   "pygments_lexer": "ipython3",
   "version": "3.7.0"
  }
 },
 "nbformat": 4,
 "nbformat_minor": 2
}
